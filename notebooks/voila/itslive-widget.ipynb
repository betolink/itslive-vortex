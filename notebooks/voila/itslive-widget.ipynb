{
 "cells": [
  {
   "cell_type": "code",
   "execution_count": null,
   "id": "330a2f00",
   "metadata": {
    "tags": []
   },
   "outputs": [],
   "source": [
    "%%capture\n",
    "%matplotlib widget\n",
    "\n",
    "import matplotlib\n",
    "\n",
    "from velocity_widget import ITSLIVE\n",
    "\n",
    "matplotlib.rcParams['figure.figsize'] = [8, 4]\n",
    "matplotlib.rcParams[\"figure.autolayout\"] = True\n",
    "\n",
    "matplotlib.pyplot.style.use('fast')\n",
    "\n",
    "velocity_widget = ITSLIVE()"
   ]
  },
  {
   "cell_type": "code",
   "execution_count": null,
   "id": "a478dc61-6a51-4e74-8e0c-9cafd1d9505c",
   "metadata": {
    "tags": []
   },
   "outputs": [],
   "source": [
    "%%html\n",
    "<style>\n",
    ".jupyter-widgets.widget-tab > .p-TabBar .p-TabBar-tab {\n",
    "    flex: 0 1 200px\n",
    "}\n",
    "</style>"
   ]
  },
  {
   "cell_type": "code",
   "execution_count": null,
   "id": "cdc8e3f9",
   "metadata": {
    "tags": []
   },
   "outputs": [],
   "source": [
    "# We render the ui\n",
    "velocity_widget.display(mobile=False, projection=\"Global\")"
   ]
  },
  {
   "cell_type": "code",
   "execution_count": null,
   "id": "9595c701-f37b-45dc-868f-069483ce5b3f",
   "metadata": {},
   "outputs": [],
   "source": [
    "# import numpy as np\n",
    "\n",
    "# import matplotlib.pyplot as plt\n",
    "# import matplotlib.dates as pldates\n",
    "\n",
    "\n",
    "# ax = velocity_widget.fig.axes[0]\n",
    "\n",
    "# # start, end = ax.get_xlim\n",
    "\n",
    "# loc = pldates.YearLocator() # this locator puts ticks at regular intervals\n",
    "# ax.xaxis.set_major_locator(loc)\n",
    "\n",
    "# years = ax.get_xticklabels()\n",
    "# for item in (years  ):\n",
    "#     item.set_fontsize(7)\n",
    "# ax.legend(fontsize=8)\n",
    "# # ax.xaxis.set_major_formatter(ticker.FormatStrFormatter(''))\n"
   ]
  }
 ],
 "metadata": {
  "kernelspec": {
   "display_name": "Python 3 (ipykernel)",
   "language": "python",
   "name": "python3"
  },
  "language_info": {
   "codemirror_mode": {
    "name": "ipython",
    "version": 3
   },
   "file_extension": ".py",
   "mimetype": "text/x-python",
   "name": "python",
   "nbconvert_exporter": "python",
   "pygments_lexer": "ipython3",
   "version": "3.9.18"
  }
 },
 "nbformat": 4,
 "nbformat_minor": 5
}
